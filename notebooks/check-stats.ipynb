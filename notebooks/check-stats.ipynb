{
 "cells": [
  {
   "cell_type": "code",
   "execution_count": null,
   "id": "7265c76b",
   "metadata": {},
   "outputs": [],
   "source": []
  },
  {
   "cell_type": "code",
   "execution_count": null,
   "id": "4e2d5b7e",
   "metadata": {},
   "outputs": [
    {
     "name": "stdout",
     "output_type": "stream",
     "text": [
      "Macro Precision: 0.9971999223357294\n",
      "Macro Recall: 0.9971929824561403\n",
      "Macro F1: 0.9971929629627463\n"
     ]
    }
   ],
   "source": [
    "import pandas as pd\n",
    "import numpy as np\n",
    "\n",
    "cmat = pd.read_csv(\n",
    "    f\"/Users/lestes/OneDrive - Clark University/service/editorial/\"\\\n",
    "    f\"frontiers/specialty-chief-editor/1589098/r2/confusion-matrix.csv\", \n",
    "    header=None\n",
    ")\n",
    "cmat = cmat.values\n",
    "n_classes = cmat.shape[0]\n",
    "precisions = []\n",
    "recalls = []\n",
    "f1s = []\n",
    "tps = []\n",
    "fps = []\n",
    "fns = []\n",
    "\n",
    "for i in range(n_classes):\n",
    "    tp = cmat[i, i]\n",
    "    fp = cmat[:, i].sum() - tp\n",
    "    fn = cmat[i, :].sum() - tp\n",
    "    tps.append(int(tp))\n",
    "    fps.append(int(fp))\n",
    "    fns.append(int(fn))\n",
    "\n",
    "    # Precision\n",
    "    precision = tp / (tp + fp) if (tp + fp) > 0 else 0\n",
    "    # Recall\n",
    "    recall = tp / (tp + fn) if (tp + fn) > 0 else 0\n",
    "    # F1\n",
    "    f1 = 2 * precision * recall / (precision + recall) \\\n",
    "        if (precision + recall) > 0 else 0\n",
    "\n",
    "    precisions.append(precision)\n",
    "    recalls.append(recall)\n",
    "    f1s.append(f1)\n",
    "\n",
    "macro_precision = np.mean(precisions)\n",
    "macro_recall = np.mean(recalls)\n",
    "macro_f1 = np.mean(f1s)\n",
    "\n",
    "print(\"Macro Precision:\", macro_precision)\n",
    "print(\"Macro Recall:\", macro_recall)\n",
    "print(\"Macro F1:\", macro_f1)\n",
    "# sklearn.metrics.multilabel_confusion_matrix(cmat)"
   ]
  },
  {
   "cell_type": "code",
   "execution_count": 16,
   "id": "bb277e48",
   "metadata": {},
   "outputs": [
    {
     "name": "stdout",
     "output_type": "stream",
     "text": [
      "Micro-precision: 0.9971929824561403\n",
      "Micro-recall: 0.9971929824561403\n"
     ]
    }
   ],
   "source": [
    "print(\"Micro-precision:\", np.sum(tps) / (np.sum(tps) + np.sum(fps)))\n",
    "print(\"Micro-recall:\", np.sum(tps) / (np.sum(tps) + np.sum(fns)))\n"
   ]
  },
  {
   "cell_type": "code",
   "execution_count": 7,
   "id": "0c0157dc",
   "metadata": {},
   "outputs": [
    {
     "data": {
      "text/plain": [
       "(array([  0,   0,   0, 149,   0,   0,   1,   0,   0,   0,   0,   0,   0,\n",
       "          0,   0,   0,   0,   0,   0]),\n",
       " array([  0,   0,   0, 149,   0,   0,   0,   0,   0,   0,   0,   0,   0,\n",
       "          0,   0,   0,   0,   0,   0]))"
      ]
     },
     "execution_count": 7,
     "metadata": {},
     "output_type": "execute_result"
    }
   ],
   "source": [
    "# print(fns)\n",
    "# print(fps)\n",
    "# print(tps)\n",
    "\n",
    "cmat[3, :], cmat[:, 3]"
   ]
  }
 ],
 "metadata": {
  "kernelspec": {
   "display_name": "ftw-mapafrica",
   "language": "python",
   "name": "python3"
  },
  "language_info": {
   "codemirror_mode": {
    "name": "ipython",
    "version": 3
   },
   "file_extension": ".py",
   "mimetype": "text/x-python",
   "name": "python",
   "nbconvert_exporter": "python",
   "pygments_lexer": "ipython3",
   "version": "3.12.10"
  }
 },
 "nbformat": 4,
 "nbformat_minor": 5
}
