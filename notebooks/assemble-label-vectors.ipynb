{
 "cells": [
  {
   "cell_type": "markdown",
   "id": "39aef2da",
   "metadata": {},
   "source": [
    "## Assemble all field boundary vectors\n"
   ]
  },
  {
   "cell_type": "markdown",
   "id": "7b8291f2",
   "metadata": {},
   "source": [
    "### Label sets\n",
    "\n",
    "- CG: \n",
    "    - mappingafrica/campaigns/data/labels/vectors/congo_c2s_1/congo_label.shp\n",
    "    - mappingafrica/campaigns/data/labels/vectors/congo_labels.geojson\n",
    "- TZ: \n",
    "    - mappingafrica/campaigns/data/labels/vectors/tanzania_labels1.geojson\n",
    "    - mappingafrica/campaigns/data/labels/vectors/tanzania_labels2.geojson\n",
    "- ZM:\n",
    "    - Sitian and Yao-Ting's\n",
    "- GH:\n",
    "    - complicated, but these to start:\n",
    "        - boka/downloads/newsiteselection_april2020/aoi1_maxworker.geojson\n",
    "        - boka/downloads/newsiteselection_april2020/aoi2_maxworker.geojson\n",
    "        - boka/downloads/newsiteselection_april2020/aoi3_maxworker.geojson\n",
    "        - boka/downloads/newsiteselection_april2020/aoi4_maxworker.geojson\n",
    "        - boka/downloads/newsiteselection_april2020/aoi5_maxworker.geojson\n",
    "        - boka/downloads/newsiteselection_april2020/aoi6_maxworker.geojson\n",
    "        - boka/downloads/newsiteselection_april2020/aoi7_maxworker.geojson\n",
    "        - boka/downloads/newsiteselection_april2020/aoi8_maxworker.geojson\n",
    "        - boka/downloads/newsiteselection_april2020/aoi9_maxworker.geojson\n",
    "        - boka/downloads/newsiteselection_april2020/aoi12_maxworker.geojson\n",
    "        - boka/downloads/newsiteselection_april2020/aoi15_maxworker.geojson\n",
    "        - boka/downloads/newsiteselection_april2020/aoi16_maxworker.geojson\n",
    "        - boka/downloads/newsiteselection_april2020/aoi17_maxworker.geojson\n",
    "    - And these include a csv of ones checked: \n",
    "        - /Users/LEstes/Dropbox/projects/activelearning/boka/downloads/newsiteselection_april2020/selectedgrid_reorganized.csv\n",
    "    - And there is also a zipped shapefile in boka/downloads/new_label.zip that looks to be improved labels for ones in AOI2. \n",
    "    - From ECAAS project, for 2021: \n",
    "        - ecaascrops/external/data/labels/cropland/class3/labelling_projects/labels/refine_2020_labels_complete.geojson\n"
   ]
  }
 ],
 "metadata": {
  "language_info": {
   "name": "python"
  }
 },
 "nbformat": 4,
 "nbformat_minor": 5
}
