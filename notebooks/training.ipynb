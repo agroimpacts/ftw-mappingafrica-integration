{
 "cells": [
  {
   "cell_type": "markdown",
   "id": "b534480e",
   "metadata": {},
   "source": [
    "# Setting up trainer for combined dataset\n"
   ]
  },
  {
   "cell_type": "code",
   "execution_count": 1,
   "id": "74513993",
   "metadata": {},
   "outputs": [],
   "source": [
    "# import pandas as pd\n",
    "from pathlib import Path\n",
    "from rasterio.plot import show\n",
    "from ftw_ma import *\n",
    "import lightning.pytorch as pl"
   ]
  },
  {
   "cell_type": "markdown",
   "id": "969bdfe2",
   "metadata": {},
   "source": [
    "## Model"
   ]
  },
  {
   "cell_type": "code",
   "execution_count": 2,
   "id": "41de2169",
   "metadata": {},
   "outputs": [
    {
     "name": "stdout",
     "output_type": "stream",
     "text": [
      "Using custom trainer\n",
      "\"backbone\":        efficientnet-b3\n",
      "\"class_weights\":   None\n",
      "\"freeze_backbone\": False\n",
      "\"freeze_decoder\":  False\n",
      "\"ignore_index\":    3\n",
      "\"in_channels\":     4\n",
      "\"loss\":            localtversky\n",
      "\"lr\":              0.001\n",
      "\"model\":           unet\n",
      "\"model_kwargs\":    {}\n",
      "\"num_classes\":     3\n",
      "\"num_filters\":     3\n",
      "\"patch_weights\":   False\n",
      "\"patience\":        10\n"
     ]
    }
   ],
   "source": [
    "model = CustomSemanticSegmentationTask(\n",
    "    model=\"unet\", \n",
    "    backbone=\"efficientnet-b3\", \n",
    "    weights=True, \n",
    "    in_channels=4,\n",
    "    num_classes=3, \n",
    "    loss=\"localtversky\",\n",
    "    # loss=\"ce\",\n",
    "    ignore_index=3\n",
    ")"
   ]
  },
  {
   "cell_type": "markdown",
   "id": "bb4173f0",
   "metadata": {},
   "source": [
    "## Data module"
   ]
  },
  {
   "cell_type": "code",
   "execution_count": 3,
   "id": "8228245c",
   "metadata": {},
   "outputs": [],
   "source": [
    "# from ftw_ma.datamodule import FTWMapAfricaDataModule\n",
    "dm = FTWMapAfricaDataModule(\n",
    "    batch_size=32,\n",
    "    num_workers=4,\n",
    "    data_dir=\"/Users/LEstes/data/labels/cropland/\",\n",
    "    catalog=\"../data/toycat2.csv\",\n",
    "    normalization_strategy=\"min_max\",\n",
    "    normalization_stat_procedure=\"lab\",\n",
    "    aug_list= [\"rotation\", \"hflip\", \"vflip\", \"sharpness\", \"gamma\", \n",
    "               \"brightness\", \"contrast\", \"rescale\", \"satslidemix\"]\n",
    ")"
   ]
  },
  {
   "cell_type": "markdown",
   "id": "192f50eb",
   "metadata": {},
   "source": [
    "## Trainer"
   ]
  },
  {
   "cell_type": "code",
   "execution_count": 4,
   "id": "34399b02",
   "metadata": {},
   "outputs": [
    {
     "name": "stderr",
     "output_type": "stream",
     "text": [
      "💡 Tip: For seamless cloud uploads and versioning, try installing [litmodels](https://pypi.org/project/litmodels/) to enable LitModelCheckpoint, which syncs automatically with the Lightning model registry.\n",
      "GPU available: True (mps), used: True\n",
      "TPU available: False, using: 0 TPU cores\n",
      "HPU available: False, using: 0 HPUs\n"
     ]
    }
   ],
   "source": [
    "# choose accelerator\n",
    "if torch.backends.mps.is_available():\n",
    "    accel = \"mps\"\n",
    "    # acceal = \"cpu\"  # mps has issues with some operations\n",
    "elif torch.cuda.is_available():\n",
    "    accel = \"gpu\"\n",
    "else:\n",
    "    accel = \"cpu\"\n",
    "\n",
    "trainer = pl.Trainer(\n",
    "    max_epochs=3,\n",
    "    devices=1,\n",
    "    accelerator=accel,\n",
    "    precision=32,\n",
    ")"
   ]
  },
  {
   "cell_type": "markdown",
   "id": "84fb7620",
   "metadata": {},
   "source": [
    "### Fit"
   ]
  },
  {
   "cell_type": "code",
   "execution_count": 5,
   "id": "667e2f5a",
   "metadata": {},
   "outputs": [
    {
     "name": "stderr",
     "output_type": "stream",
     "text": [
      "\n",
      "  | Name          | Type             | Params | Mode \n",
      "-----------------------------------------------------------\n",
      "0 | model         | Unet             | 13.2 M | train\n",
      "1 | criterion     | SafeLossWrapper  | 0      | train\n",
      "2 | train_metrics | MetricCollection | 0      | train\n",
      "3 | val_metrics   | MetricCollection | 0      | train\n",
      "4 | test_metrics  | MetricCollection | 0      | train\n",
      "-----------------------------------------------------------\n",
      "13.2 M    Trainable params\n",
      "0         Non-trainable params\n",
      "13.2 M    Total params\n",
      "52.639    Total estimated model params size (MB)\n",
      "484       Modules in train mode\n",
      "0         Modules in eval mode\n"
     ]
    },
    {
     "data": {
      "application/vnd.jupyter.widget-view+json": {
       "model_id": "3be9590277f2458d84bcd5d00a75bcce",
       "version_major": 2,
       "version_minor": 0
      },
      "text/plain": [
       "Sanity Checking: |          | 0/? [00:00<?, ?it/s]"
      ]
     },
     "metadata": {},
     "output_type": "display_data"
    },
    {
     "name": "stderr",
     "output_type": "stream",
     "text": [
      "/Users/LEstes/.pyenv/versions/ftw-mapafrica/lib/python3.12/site-packages/lightning/pytorch/loops/fit_loop.py:310: The number of training batches (3) is smaller than the logging interval Trainer(log_every_n_steps=50). Set a lower value for log_every_n_steps if you want to see logs for the training epoch.\n"
     ]
    },
    {
     "data": {
      "application/vnd.jupyter.widget-view+json": {
       "model_id": "eb8c19ac8c904b13b518de945f5b41bd",
       "version_major": 2,
       "version_minor": 0
      },
      "text/plain": [
       "Training: |          | 0/? [00:00<?, ?it/s]"
      ]
     },
     "metadata": {},
     "output_type": "display_data"
    },
    {
     "name": "stderr",
     "output_type": "stream",
     "text": [
      "/Users/LEstes/.pyenv/versions/ftw-mapafrica/lib/python3.12/site-packages/torch/nn/functional.py:5082: UserWarning: Default grid_sample and affine_grid behavior has changed to align_corners=False since 1.3.0. Please specify align_corners=True if the old behavior is desired. See the documentation of grid_sample for details.\n",
      "  warnings.warn(\n",
      "/Users/LEstes/.pyenv/versions/ftw-mapafrica/lib/python3.12/site-packages/torch/nn/functional.py:5015: UserWarning: Default grid_sample and affine_grid behavior has changed to align_corners=False since 1.3.0. Please specify align_corners=True if the old behavior is desired. See the documentation of grid_sample for details.\n",
      "  warnings.warn(\n",
      "/Users/LEstes/.pyenv/versions/ftw-mapafrica/lib/python3.12/site-packages/torch/nn/functional.py:5082: UserWarning: Default grid_sample and affine_grid behavior has changed to align_corners=False since 1.3.0. Please specify align_corners=True if the old behavior is desired. See the documentation of grid_sample for details.\n",
      "  warnings.warn(\n",
      "/Users/LEstes/.pyenv/versions/ftw-mapafrica/lib/python3.12/site-packages/torch/nn/functional.py:5015: UserWarning: Default grid_sample and affine_grid behavior has changed to align_corners=False since 1.3.0. Please specify align_corners=True if the old behavior is desired. See the documentation of grid_sample for details.\n",
      "  warnings.warn(\n",
      "/Users/LEstes/.pyenv/versions/ftw-mapafrica/lib/python3.12/site-packages/torch/nn/functional.py:5082: UserWarning: Default grid_sample and affine_grid behavior has changed to align_corners=False since 1.3.0. Please specify align_corners=True if the old behavior is desired. See the documentation of grid_sample for details.\n",
      "  warnings.warn(\n",
      "/Users/LEstes/.pyenv/versions/ftw-mapafrica/lib/python3.12/site-packages/torch/nn/functional.py:5015: UserWarning: Default grid_sample and affine_grid behavior has changed to align_corners=False since 1.3.0. Please specify align_corners=True if the old behavior is desired. See the documentation of grid_sample for details.\n",
      "  warnings.warn(\n"
     ]
    },
    {
     "data": {
      "application/vnd.jupyter.widget-view+json": {
       "model_id": "ba9613063b984bd99509a78605e139fa",
       "version_major": 2,
       "version_minor": 0
      },
      "text/plain": [
       "Validation: |          | 0/? [00:00<?, ?it/s]"
      ]
     },
     "metadata": {},
     "output_type": "display_data"
    },
    {
     "data": {
      "application/vnd.jupyter.widget-view+json": {
       "model_id": "b40ad8a928b34bb7a985e88deb7cb1aa",
       "version_major": 2,
       "version_minor": 0
      },
      "text/plain": [
       "Validation: |          | 0/? [00:00<?, ?it/s]"
      ]
     },
     "metadata": {},
     "output_type": "display_data"
    },
    {
     "data": {
      "application/vnd.jupyter.widget-view+json": {
       "model_id": "b3da803a4ab8402aa12826acfb1f0515",
       "version_major": 2,
       "version_minor": 0
      },
      "text/plain": [
       "Validation: |          | 0/? [00:00<?, ?it/s]"
      ]
     },
     "metadata": {},
     "output_type": "display_data"
    },
    {
     "name": "stderr",
     "output_type": "stream",
     "text": [
      "`Trainer.fit` stopped: `max_epochs=3` reached.\n"
     ]
    }
   ],
   "source": [
    "trainer.fit(model, datamodule=dm)"
   ]
  },
  {
   "cell_type": "code",
   "execution_count": null,
   "id": "8ccc694a",
   "metadata": {},
   "outputs": [],
   "source": [
    "{k: (v.item() if isinstance(v, torch.Tensor) else v)\n",
    "     for k, v in trainer.callback_metrics.items()}"
   ]
  },
  {
   "cell_type": "code",
   "execution_count": null,
   "id": "6f3b0a66",
   "metadata": {},
   "outputs": [
    {
     "data": {
      "text/plain": [
       "'/Users/LEstes/Dropbox/projects/ftw-mappingafrica-integration/notebooks/lightning_logs/version_16'"
      ]
     },
     "execution_count": 21,
     "metadata": {},
     "output_type": "execute_result"
    }
   ],
   "source": [
    "# %load_ext tensorboard\n",
    "# %tensorboard --logdir {trainer.logger.log_dir}\n"
   ]
  },
  {
   "cell_type": "code",
   "execution_count": null,
   "id": "38de0432",
   "metadata": {},
   "outputs": [],
   "source": []
  }
 ],
 "metadata": {
  "kernelspec": {
   "display_name": "ftw-mapafrica",
   "language": "python",
   "name": "python3"
  },
  "language_info": {
   "codemirror_mode": {
    "name": "ipython",
    "version": 3
   },
   "file_extension": ".py",
   "mimetype": "text/x-python",
   "name": "python",
   "nbconvert_exporter": "python",
   "pygments_lexer": "ipython3",
   "version": "3.12.10"
  }
 },
 "nbformat": 4,
 "nbformat_minor": 5
}
