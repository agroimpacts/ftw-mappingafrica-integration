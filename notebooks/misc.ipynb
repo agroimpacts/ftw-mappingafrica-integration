{
 "cells": [
  {
   "cell_type": "markdown",
   "id": "7d6dca88",
   "metadata": {},
   "source": [
    "# Various Things"
   ]
  },
  {
   "cell_type": "code",
   "execution_count": 2,
   "id": "5768292b",
   "metadata": {},
   "outputs": [],
   "source": [
    "import rioxarray as rxr\n",
    "import rasterio as rio\n",
    "import pandas as pd\n",
    "import geopandas as gpd"
   ]
  },
  {
   "cell_type": "markdown",
   "id": "86e49e40",
   "metadata": {},
   "source": [
    "## Testing on S2 image\n",
    "\n",
    "For Ana"
   ]
  },
  {
   "cell_type": "code",
   "execution_count": 5,
   "id": "55a115eb",
   "metadata": {},
   "outputs": [],
   "source": [
    "img = rxr.open_rasterio(\"/Users/lestes/images/s2/sudan_example_lateWA.tif\")"
   ]
  },
  {
   "cell_type": "markdown",
   "id": "244c781a",
   "metadata": {},
   "source": [
    "Subset and write to COGs"
   ]
  },
  {
   "cell_type": "code",
   "execution_count": 8,
   "id": "1358d4d1",
   "metadata": {},
   "outputs": [],
   "source": [
    "img_a = img.isel(band=[0,1,2,3])\n",
    "img_b = img.isel(band=[4,5,6,7])"
   ]
  },
  {
   "cell_type": "code",
   "execution_count": 13,
   "id": "296fb14d",
   "metadata": {},
   "outputs": [],
   "source": [
    "img_a.rio.to_raster(\"/Users/lestes/images/s2/sudan_example_lateWA_a.tif\", \n",
    "                    cog = True)\n",
    "img_b.rio.to_raster(\"/Users/lestes/images/s2/sudan_example_lateWA_b.tif\", \n",
    "                    cog = True)\n"
   ]
  },
  {
   "cell_type": "markdown",
   "id": "67c1718e",
   "metadata": {},
   "source": [
    "Make a catalog"
   ]
  },
  {
   "cell_type": "code",
   "execution_count": 19,
   "id": "ee4d273a",
   "metadata": {},
   "outputs": [],
   "source": [
    "# catalog = gpd.read_file(\"../data/mappingafrica-tile-catalog-small.geojson\")\n",
    "catalog = pd.DataFrame({\n",
    "    \"name\": [\"sudan_example_lateWA_a\", \"sudan_example_lateWA_b\"],\n",
    "    \"date\": [\"2024-05-01\", \"2024-10-01\"],\n",
    "    \"window_b\": [\"sudan_example_lateWA_a.tif\", \n",
    "                 \"sudan_example_lateWA_b.tif\"],\n",
    "})\n",
    "catalog.to_csv(\"../data/sudan-test-catalog.csv\", index=False)\n"
   ]
  },
  {
   "cell_type": "markdown",
   "id": "dd8ecb94",
   "metadata": {},
   "source": [
    "#### Catalog for Kenya Planet"
   ]
  },
  {
   "cell_type": "code",
   "execution_count": null,
   "id": "f32492a4",
   "metadata": {},
   "outputs": [],
   "source": [
    "aoi = gpd.read_file(\"../external/aois/lindquist-aoi.kml\")\n",
    "\n",
    "pth = \"~/Dropbox/projects/activelearning/mappingafrica/campaigns/data/grids\"\n",
    "tiles = gpd.read_file(f\"{pth}/kenya_tiles.geojson\")[[\"tile\", \"geometry\"]]\n",
    "\n",
    "(tiles.sjoin(aoi, how=\"inner\", predicate=\"intersects\")[[\"tile\", \"geometry\"]]\n",
    " .reset_index(drop=True)\n",
    " .to_file(\"../data/kenya-lindqvist-tiles.geojson\", driver=\"GeoJSON\"))\n",
    "\n",
    "\n",
    "# tiles = [gpd.read_file(f\"{pth}/{cntry}_tiles.geojson\")[[\"tile\", \"geometry\"]] \n",
    "#          for cntry in [\"kenya\"]]\n",
    "# # tiles = pd.concat(tiles, axis=0)\n",
    "# tiles[\"tile\"] = tiles[\"tile\"].astype(int).astype(str)\n",
    "# tiles = tiles.query(\"tile in @tile_ids\").reset_index(drop=True)\n",
    "\n",
    "# # tiles_gdf = (\n",
    "# #     pd.merge(tile_catalog, tiles, left_on=\"name\", right_on=\"tile\", how=\"inner\")\n",
    "# #     .drop(columns=[\"tile\"])\n",
    "# #     .pipe(gpd.GeoDataFrame, geometry=\"geometry\", crs=\"EPSG:4326\")\n",
    "# # )\n",
    "# # tiles_gdf.to_file(\"../data/mappingafrica-tile-catalog-small.geojson\", \n",
    "# #                   driver=\"GeoJSON\")\n"
   ]
  },
  {
   "cell_type": "markdown",
   "id": "e37bc85f",
   "metadata": {},
   "source": [
    "Tanmoy made catalogs for running our original model. Combine these with buffered tiles I made in mappingafrica repo"
   ]
  },
  {
   "cell_type": "code",
   "execution_count": 26,
   "id": "d1918d16",
   "metadata": {},
   "outputs": [],
   "source": [
    "# catalogs\n",
    "kenya_cats = []\n",
    "for i in range(2018, 2025):\n",
    "    kenya_cats.append(\n",
    "        pd.read_csv(f\"../external/catalogs/prediction_catalog_kenya_{i}.csv\")\n",
    "    )\n",
    "\n",
    "kenya_cats = pd.concat(kenya_cats, axis=0).reset_index(drop=True)\n",
    "kenya_cats[\"date\"] = kenya_cats[\"year\"].apply(lambda x: f\"{x}-07-15\")\n",
    "kenya_cats = kenya_cats.rename(\n",
    "    columns={\"tile\": \"name\", \"dir_img\": \"window_b\"}\n",
    ")[[\"name\", \"date\", \"window_b\"]]\n",
    "\n",
    "buf_tiles = gpd.read_file(\n",
    "    f\"~/Dropbox/projects/activelearning/mappingafrica/campaigns/data/grids/\"\n",
    "    \"retile/kenya_tiles_buf184.geojson\"\n",
    ")\n",
    "\n",
    "tiles_gdf = pd.merge(\n",
    "    kenya_cats[[\"name\", \"date\", \"window_b\"]], \n",
    "    buf_tiles[[\"tile\", \"geometry\"]], \n",
    "    how=\"inner\", \n",
    "    left_on=\"name\", \n",
    "    right_on=\"tile\"\n",
    ")\n",
    "tiles_gdf = gpd.GeoDataFrame(\n",
    "    tiles_gdf.drop(columns=[\"tile\"]),\n",
    "    geometry=\"geometry\", \n",
    "    crs=\"EPSG:4326\"\n",
    ")\n",
    "\n",
    "tiles_gdf.to_file(\n",
    "    f\"../external/catalogs/mappingafrica-kenya-buffered-tile-catalog.geojson\", \n",
    "    driver=\"GeoJSON\"\n",
    ")"
   ]
  }
 ],
 "metadata": {
  "kernelspec": {
   "display_name": "ftw-mapafrica",
   "language": "python",
   "name": "python3"
  },
  "language_info": {
   "codemirror_mode": {
    "name": "ipython",
    "version": 3
   },
   "file_extension": ".py",
   "mimetype": "text/x-python",
   "name": "python",
   "nbconvert_exporter": "python",
   "pygments_lexer": "ipython3",
   "version": "3.12.10"
  }
 },
 "nbformat": 4,
 "nbformat_minor": 5
}
