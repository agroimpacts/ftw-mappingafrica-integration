{
 "cells": [
  {
   "cell_type": "markdown",
   "id": "41d505fe",
   "metadata": {},
   "source": [
    "# Set up for model experiments\n",
    "\n",
    "We'll do the following here:\n",
    "\n",
    "- Create distinct catalogs\n",
    "- Document parameters changes that will accompany each\n",
    "- Create yamls for each experiment"
   ]
  },
  {
   "cell_type": "markdown",
   "id": "9503d4da",
   "metadata": {},
   "source": [
    "### Catalogs"
   ]
  },
  {
   "cell_type": "code",
   "execution_count": 10,
   "id": "3027a060",
   "metadata": {},
   "outputs": [],
   "source": [
    "import pandas as pd\n",
    "from pathlib import Path\n",
    "import yaml\n",
    "import os\n",
    "import re\n",
    "import glob \n",
    "import geopandas as gpd"
   ]
  },
  {
   "cell_type": "code",
   "execution_count": 11,
   "id": "f4400d39",
   "metadata": {},
   "outputs": [],
   "source": [
    "catalog = pd.read_csv(\"../data/ftw-mappingafrica-combined-catalog.csv\")\n",
    "catalog.query(\"dataset == 'ftw'\").to_csv(\"../data/ftw-catalog.csv\", index=False)"
   ]
  },
  {
   "cell_type": "markdown",
   "id": "445e89cb",
   "metadata": {},
   "source": [
    "Update: catalog will be adjusted to drop Portugal and presence-only data from validation set for FTW"
   ]
  },
  {
   "cell_type": "code",
   "execution_count": null,
   "id": "33704f12",
   "metadata": {},
   "outputs": [],
   "source": [
    "catalog = pd.read_csv(\"../data/ftw-mappingafrica-combined-catalog.csv\")\n",
    "# catalog[\"split\"]\n",
    "\n",
    "# 22 records in India had no split assigned--placed them in train\n",
    "catalog[\"split\"] = catalog[\"split\"].replace(\"none\", \"train\")\n",
    "\n",
    "catalog['split'] = catalog['split'].astype(str).str.strip().str.lower()\n",
    "catalog['country'] = catalog['country'].astype(str).str.strip().str.lower()\n",
    "catalog['null_prop'] = pd.to_numeric(catalog['null_prop'], errors='coerce')  # NaN if non-numeric\n",
    "\n",
    "mask = ~(\n",
    "    catalog['split'].isin(['validate', 'test'])\n",
    "    & (\n",
    "        (catalog['null_prop'] > 0) | (catalog['country'] == 'portugal')\n",
    "    )\n",
    ")\n",
    "catalogr = catalog[mask].copy().reset_index(drop=True)\n",
    "\n",
    "# FTW and full catalogs dropping Portugal and presence-only data from val/test\n",
    "(catalogr.query(\"dataset == 'ftw'\")\n",
    " .to_csv(\"../data/ftw-catalog2.csv\", index=False))\n",
    "(catalogr\n",
    " .to_csv(\"../data/ftw-mappingafrica-combined-catalog2.csv\", index=False))\n",
    "\n",
    "# small FTW for rapid model testing\n",
    "ftw_small = (\n",
    "    catalogr\n",
    "     .query(\"dataset == 'ftw'\")\n",
    "     .sample(10000, random_state=42)\n",
    ").reset_index(drop=True)#.to_csv(\"../data/ftw-catalog-small.csv\", index=False))\n",
    "# ftw_small[\"split\"].value_counts()\n",
    "ftw_small.to_csv(\"../data/ftw-catalog-small.csv\", index=False)\n"
   ]
  },
  {
   "cell_type": "markdown",
   "id": "6657a499",
   "metadata": {},
   "source": [
    "Make another small catalog for debugging, including null prop > 0 in validation data"
   ]
  },
  {
   "cell_type": "code",
   "execution_count": null,
   "id": "1ed3dc2f",
   "metadata": {},
   "outputs": [],
   "source": [
    "ftw_catalog = pd.read_csv(\"../data/ftw-catalog.csv\")\n",
    "ftw_small_debug = (ftw_catalog\n",
    "                   .sample(1000, random_state=42)\n",
    "                   .reset_index(drop=True))\n",
    "# ftw_small_debug.query(\"split == 'validate' & null_prop > 0\")\n",
    "ftw_small_debug.to_csv(\"../data/ftw-catalog-small-debug.csv\", index=False)"
   ]
  },
  {
   "cell_type": "markdown",
   "id": "dc9cc2c2",
   "metadata": {},
   "source": [
    "Mapping Africa only"
   ]
  },
  {
   "cell_type": "code",
   "execution_count": null,
   "id": "73d06f9b",
   "metadata": {},
   "outputs": [],
   "source": [
    "catalog = pd.read_csv(\"../data/ftw-mappingafrica-combined-catalog.csv\")\n",
    "(catalog.query(\"dataset == 'mappingafrica'\")\n",
    " .to_csv(\"../data/mappingafrica-catalog.csv\", index=False))"
   ]
  },
  {
   "cell_type": "markdown",
   "id": "6c06ba72",
   "metadata": {},
   "source": [
    "Catalogs for inference (testing), chips and tiles"
   ]
  },
  {
   "cell_type": "code",
   "execution_count": 7,
   "id": "8b9e2776",
   "metadata": {},
   "outputs": [
    {
     "data": {
      "text/html": [
       "<div>\n",
       "<style scoped>\n",
       "    .dataframe tbody tr th:only-of-type {\n",
       "        vertical-align: middle;\n",
       "    }\n",
       "\n",
       "    .dataframe tbody tr th {\n",
       "        vertical-align: top;\n",
       "    }\n",
       "\n",
       "    .dataframe thead th {\n",
       "        text-align: right;\n",
       "    }\n",
       "</style>\n",
       "<table border=\"1\" class=\"dataframe\">\n",
       "  <thead>\n",
       "    <tr style=\"text-align: right;\">\n",
       "      <th></th>\n",
       "      <th>name</th>\n",
       "      <th>date</th>\n",
       "      <th>window_b</th>\n",
       "    </tr>\n",
       "  </thead>\n",
       "  <tbody>\n",
       "    <tr>\n",
       "      <th>0</th>\n",
       "      <td>513706</td>\n",
       "      <td>2023-11-15</td>\n",
       "      <td>2023/tile513706_2023-11_buf179_cog.tif</td>\n",
       "    </tr>\n",
       "    <tr>\n",
       "      <th>1</th>\n",
       "      <td>513726</td>\n",
       "      <td>2023-11-15</td>\n",
       "      <td>2023/tile513726_2023-11_buf179_cog.tif</td>\n",
       "    </tr>\n",
       "    <tr>\n",
       "      <th>2</th>\n",
       "      <td>765503</td>\n",
       "      <td>2022-03-15</td>\n",
       "      <td>2022/tile765503_2022-03_buf179_cog.tif</td>\n",
       "    </tr>\n",
       "    <tr>\n",
       "      <th>3</th>\n",
       "      <td>910217</td>\n",
       "      <td>2024-06-15</td>\n",
       "      <td>2024/tile910217_2024-06_buf179_cog.tif</td>\n",
       "    </tr>\n",
       "    <tr>\n",
       "      <th>4</th>\n",
       "      <td>910218</td>\n",
       "      <td>2024-06-15</td>\n",
       "      <td>2024/tile910218_2024-06_buf179_cog.tif</td>\n",
       "    </tr>\n",
       "  </tbody>\n",
       "</table>\n",
       "</div>"
      ],
      "text/plain": [
       "     name        date                                window_b\n",
       "0  513706  2023-11-15  2023/tile513706_2023-11_buf179_cog.tif\n",
       "1  513726  2023-11-15  2023/tile513726_2023-11_buf179_cog.tif\n",
       "2  765503  2022-03-15  2022/tile765503_2022-03_buf179_cog.tif\n",
       "3  910217  2024-06-15  2024/tile910217_2024-06_buf179_cog.tif\n",
       "4  910218  2024-06-15  2024/tile910218_2024-06_buf179_cog.tif"
      ]
     },
     "execution_count": 7,
     "metadata": {},
     "output_type": "execute_result"
    }
   ],
   "source": [
    "\n",
    "# # Recursively find all files in /Users/lestes/images/tiles and subfolders\n",
    "tiles_list = [\n",
    "    os.path.relpath(f, \"/Users/lestes/images/tiles\")\n",
    "    for f in glob.glob(\"/Users/lestes/images/tiles/**/*\", recursive=True)\n",
    "    if os.path.isfile(f) and f.endswith(\"cog.tif\")\n",
    "    # (os.path.basename(f).startswith((\"tile910\", \"tile513\", \"tile765\"))      \n",
    "]\n",
    "\n",
    "# tile numbers of interest\n",
    "tile_ids = [\"910217\", \"910218\", \"513706\", \"513726\", \"765503\"]  \n",
    "\n",
    "# Filter tiles_list for specified tile_ids and keep only the last (latest year) \n",
    "# For each tile_id, keep only the image from the most recent year (folder)\n",
    "tile_dict = {}\n",
    "for f in tiles_list:\n",
    "  basename = os.path.basename(f)\n",
    "  for tid in tile_ids:\n",
    "    if basename.startswith(f\"tile{tid}\"):\n",
    "      year_folder = os.path.dirname(f)\n",
    "      try:\n",
    "        year_int = int(year_folder)\n",
    "      except ValueError:\n",
    "        continue  # skip if folder is not a year\n",
    "      # Keep the file if it's the first seen or has a greater year\n",
    "      if tid not in tile_dict or year_int > int(os.path.dirname(tile_dict[tid])):\n",
    "        tile_dict[tid] = f\n",
    "tiles_selected = list(tile_dict.values())\n",
    "\n",
    "#             #  if file.startswith(\"tile91023\"): \n",
    "                 \n",
    "tile_catalog = pd.DataFrame(\n",
    "    [{\"name\": re.sub(\"tile\", \"\", os.path.basename(f).split(\"_\")[0]),  \n",
    "      # \"year\": os.path.dirname(f), \n",
    "      \"date\": f\"{os.path.basename(f).split(\"_\")[1]}-15\",\n",
    "      \"window_b\": f}\n",
    "      for f in tiles_selected]\n",
    ").sort_values(by=[\"name\", \"date\"]).reset_index(drop=True)\n",
    "# tile_catalog.to_csv(\"../data/mappingafrica-tile-catalog.csv\", index=False)\n",
    "# (tile_catalog.query(\"name in ['910217', '910218'] & year == '2024'\")\n",
    "#  .to_csv(\"../data/mappingafrica-tile-catalog-small.csv\", index=False))\n",
    "\n",
    "tile_catalog\n"
   ]
  },
  {
   "cell_type": "code",
   "execution_count": 8,
   "id": "bdee0535",
   "metadata": {},
   "outputs": [],
   "source": [
    "pth = \"~/Dropbox/projects/activelearning/mappingafrica/campaigns/data/grids\"\n",
    "tiles = [gpd.read_file(f\"{pth}/{cntry}_tiles.geojson\")[[\"tile\", \"geometry\"]] \n",
    "         for cntry in [\"ghana\", \"congo\", \"zambia\"]]\n",
    "tiles = pd.concat(tiles, axis=0)\n",
    "tiles[\"tile\"] = tiles[\"tile\"].astype(int).astype(str)\n",
    "tiles = tiles.query(\"tile in @tile_ids\").reset_index(drop=True)\n",
    "\n",
    "tiles_gdf = (\n",
    "    pd.merge(tile_catalog, tiles, left_on=\"name\", right_on=\"tile\", how=\"inner\")\n",
    "    .drop(columns=[\"tile\"])\n",
    "    .pipe(gpd.GeoDataFrame, geometry=\"geometry\", crs=\"EPSG:4326\")\n",
    ")\n",
    "tiles_gdf.to_file(\"../data/mappingafrica-tile-catalog-small.geojson\", \n",
    "                  driver=\"GeoJSON\")\n"
   ]
  },
  {
   "cell_type": "markdown",
   "id": "690c9316",
   "metadata": {},
   "source": [
    "Make catalog placing FTW win_a labels under win_b to let model learn from both time points. Make new combined catalog. \n",
    "\n"
   ]
  },
  {
   "cell_type": "code",
   "execution_count": 18,
   "id": "344b5c62",
   "metadata": {},
   "outputs": [],
   "source": [
    "ftw_catalog = catalog.query(\"dataset == 'ftw'\")\n",
    "ftw_catalog2 = ftw_catalog.copy()\n",
    "ftw_catalog2[\"window_b\"] = ftw_catalog2[\"window_a\"]\n",
    "ftw_catalog_long = (pd.concat([ftw_catalog, ftw_catalog2], axis=0)\n",
    "                    .reset_index(drop=True))\n",
    "ftw_catalog_long[\"window_a\"] = \"\"\n",
    "# .to_csv(\"../data/ftw-mappingafrica-combined-catalog.csv\", index=False)\n",
    "\n",
    "# Long FTW catalog\n",
    "ftw_catalog_long.to_csv(\"../data/ftw-catalog-long.csv\", index=False)\n",
    "\n",
    "# Long combined\n",
    "catalog_long = pd.concat([ftw_catalog_long, \n",
    "                          catalog.query(\"dataset == 'mappingafrica'\")], axis=0)\n",
    "# list(catalog_long.shape)\n",
    "# catalog_long.head()\n",
    "catalog_long.to_csv(\"../data/ftw-mappingafrica-combined-catalog-long.csv\", \n",
    "                    index=False)"
   ]
  },
  {
   "cell_type": "markdown",
   "id": "0de87945",
   "metadata": {},
   "source": [
    "And new catalog that drops from validation set all presence-only data, but keeping Portugal this time in one (long2), and for consistency with previous dropping Portugal and presence only in the others (long3). "
   ]
  },
  {
   "cell_type": "code",
   "execution_count": null,
   "id": "54ab5ee3",
   "metadata": {},
   "outputs": [],
   "source": [
    "mask = ~(\n",
    "    catalog_long['split'].isin(['validate', 'test'])\n",
    "    & (catalog_long['null_prop'] > 0) \n",
    ")\n",
    "\n",
    "catalogr = catalog_long[mask].copy().reset_index(drop=True)\n",
    "print(len(catalogr), len(catalog_long))\n",
    "\n",
    "(catalogr\n",
    " .to_csv(\"../data/ftw-mappingafrica-combined-catalog-long2.csv\", index=False))\n",
    "\n",
    "(catalogr.query(\"dataset == 'ftw'\")\n",
    " .to_csv(\"../data/ftw-catalog-long2.csv\", index=False))\n",
    "\n",
    "mask = ~(\n",
    "    catalog_long['split'].isin(['validate', 'test'])\n",
    "    & (\n",
    "        (catalog_long['null_prop'] > 0) | \n",
    "        (catalog_long['country'] == 'portugal')\n",
    "    )\n",
    ")\n",
    "\n",
    "catalogr = catalog_long[mask].copy().reset_index(drop=True)\n",
    "print(len(catalogr), len(catalog_long))\n",
    "\n",
    "(catalogr\n",
    " .to_csv(\"../data/ftw-mappingafrica-combined-catalog-long3.csv\", index=False))\n",
    "\n",
    "(catalogr.query(\"dataset == 'ftw'\")\n",
    " .to_csv(\"../data/ftw-catalog-long3.csv\", index=False))\n",
    "\n",
    "catalogr"
   ]
  },
  {
   "cell_type": "markdown",
   "id": "ce7c22fe",
   "metadata": {},
   "source": [
    "## Experiments"
   ]
  },
  {
   "cell_type": "markdown",
   "id": "ec63f770",
   "metadata": {},
   "source": [
    "### Functions"
   ]
  },
  {
   "cell_type": "code",
   "execution_count": 22,
   "id": "5343e6f0",
   "metadata": {},
   "outputs": [],
   "source": [
    "def write_yaml(template_path: str, output_path: str, updates: dict = None):\n",
    "    \"\"\"\n",
    "    Write a YAML file from a template file, with optional updates.\n",
    "\n",
    "    Args:\n",
    "        template_path (str): Path to the base YAML template file.\n",
    "        output_path (str): Path to the output YAML file.\n",
    "        updates (dict, optional): Dictionary of keys/values to update.\n",
    "    \"\"\"\n",
    "\n",
    "    def recursive_update(d, u):\n",
    "        for k, v in u.items():\n",
    "            if isinstance(v, dict) and isinstance(d.get(k), dict):\n",
    "                recursive_update(d[k], v)\n",
    "            else:\n",
    "                d[k] = v\n",
    "\n",
    "    with open(template_path, 'r') as f:\n",
    "        config = yaml.safe_load(f)\n",
    "        if updates:\n",
    "            recursive_update(config, updates)\n",
    "\n",
    "    class IndentDumper(yaml.SafeDumper):\n",
    "        def increase_indent(self, flow=False, indentless=False):\n",
    "            return super().increase_indent(flow, False)\n",
    "\n",
    "    # custom representer for lists\n",
    "    def represent_list(dumper, data):\n",
    "        # flow style only if all elements are scalars\n",
    "        if all(isinstance(x, (str, int, float, bool, type(None))) for x in data):\n",
    "            return dumper.represent_sequence(\"tag:yaml.org,2002:seq\", data, \n",
    "                                             flow_style=True)\n",
    "        else:\n",
    "            return dumper.represent_sequence(\"tag:yaml.org,2002:seq\", data, \n",
    "                                             flow_style=False)\n",
    "\n",
    "    IndentDumper.add_representer(list, represent_list)\n",
    "\n",
    "    with open(output_path, 'w') as f:\n",
    "        yaml.dump(\n",
    "            config,\n",
    "            f,\n",
    "            Dumper=IndentDumper,\n",
    "            default_flow_style=False,  # keep dicts block-style\n",
    "            sort_keys=False,\n",
    "            indent=2,\n",
    "            allow_unicode=True\n",
    "        )\n"
   ]
  },
  {
   "cell_type": "markdown",
   "id": "1dc8f8e5",
   "metadata": {},
   "source": [
    "### Single time point"
   ]
  },
  {
   "cell_type": "markdown",
   "id": "0ab82bf9",
   "metadata": {},
   "source": [
    "#### FTW baseline, FTW catalog\n",
    "\n",
    "All experiments here are FTW baseline model, window B only"
   ]
  },
  {
   "cell_type": "markdown",
   "id": "d49b9f74",
   "metadata": {},
   "source": [
    "##### Setup\n",
    "\n",
    "Below we set up a yaml for each experiment. Provide the following:\n",
    "\n",
    "- `cfg_name`: name of the config/experiment file (without .yaml)\n",
    "- `update`: dictionary of changes to make to the base config\n",
    "\n",
    "Also define a global `home_dir` for the path to the repo containing the catalog. That's done once in the first cell. "
   ]
  },
  {
   "cell_type": "code",
   "execution_count": 12,
   "id": "efdbd147",
   "metadata": {},
   "outputs": [],
   "source": [
    "home_dir = \"~/projects\"\n",
    "base_update = dict(\n",
    "    data=dict(\n",
    "        init_args=dict(\n",
    "            catalog=f\"{home_dir}/\"\\\n",
    "                \"ftw-mappingafrica-integration/data/ftw-catalog2.csv\",\n",
    "        )\n",
    "    )\n",
    ")"
   ]
  },
  {
   "cell_type": "markdown",
   "id": "136ae23b",
   "metadata": {},
   "source": [
    "##### # 1 Default\n",
    "\n",
    "With updated optimal weights added"
   ]
  },
  {
   "cell_type": "code",
   "execution_count": null,
   "id": "a9f26aa2",
   "metadata": {},
   "outputs": [],
   "source": [
    "cfg_name = \"ftwbaseline-exp1\"\n",
    "update = base_update.copy()\n",
    "update[\"trainer\"] = dict(default_root_dir=f\"~/working/models/{cfg_name}\")\n",
    "write_yaml(\"../configs/template-hpc-config.yaml\", \n",
    "           f\"../configs/{cfg_name}.yaml\", \n",
    "           updates=update)"
   ]
  },
  {
   "cell_type": "markdown",
   "id": "a414ea3f",
   "metadata": {},
   "source": [
    "##### # 2 Locally-weighted tversky focal loss\n"
   ]
  },
  {
   "cell_type": "code",
   "execution_count": 93,
   "id": "4def790c",
   "metadata": {},
   "outputs": [],
   "source": [
    "cfg_name = \"ftwbaseline-localtversky-exp2\"\n",
    "update = base_update.copy()\n",
    "update[\"trainer\"] = dict(default_root_dir=f\"~/working/models/{cfg_name}\")\n",
    "update[\"model\"] = dict(init_args=dict(loss=\"localtversky\"))\n",
    "write_yaml(\"../configs/template-hpc-config.yaml\", \n",
    "           f\"../configs/{cfg_name}.yaml\", \n",
    "           updates=update)"
   ]
  },
  {
   "cell_type": "markdown",
   "id": "b0070ae6",
   "metadata": {},
   "source": [
    "##### # 3 Local min-max normalization, across bands\n"
   ]
  },
  {
   "cell_type": "code",
   "execution_count": 94,
   "id": "41fc1730",
   "metadata": {},
   "outputs": [],
   "source": [
    "cfg_name = \"ftwbaseline-minmax_lab-exp3\"\n",
    "update = base_update.copy()\n",
    "update[\"trainer\"] = dict(default_root_dir=f\"~/working/models/{cfg_name}\")\n",
    "update[\"data\"][\"init_args\"] = dict(\n",
    "    normalization_strategy=\"min_max\",\n",
    "    normalization_stat_procedure=\"lab\",\n",
    "    global_stats=None,\n",
    ")\n",
    "\n",
    "write_yaml(\"../configs/template-hpc-config.yaml\", \n",
    "           f\"../configs/{cfg_name}.yaml\", \n",
    "           updates=update)"
   ]
  },
  {
   "cell_type": "markdown",
   "id": "af2b5861",
   "metadata": {},
   "source": [
    "##### # 3a Local min-max normalization, across bands, 1% clip"
   ]
  },
  {
   "cell_type": "code",
   "execution_count": 19,
   "id": "b6dc3ebb",
   "metadata": {},
   "outputs": [],
   "source": [
    "cfg_name = \"ftwbaseline-minmax_lab-exp3a\"\n",
    "update = base_update.copy()\n",
    "update[\"trainer\"] = dict(default_root_dir=f\"~/working/models/{cfg_name}\")\n",
    "update[\"data\"][\"init_args\"] = dict(\n",
    "    normalization_strategy=\"min_max\",\n",
    "    normalization_stat_procedure=\"lab\",\n",
    "    img_clip_val=1,\n",
    "    global_stats=None,\n",
    ")\n",
    "\n",
    "write_yaml(\"../configs/template-hpc-config.yaml\", \n",
    "           f\"../configs/{cfg_name}.yaml\", \n",
    "           updates=update)"
   ]
  },
  {
   "cell_type": "markdown",
   "id": "26d22d36",
   "metadata": {},
   "source": [
    "##### # 4 Global min-max normalization, across bands\n",
    "\n",
    "Using the 1st and 99th percentiles as min-max. \n"
   ]
  },
  {
   "cell_type": "code",
   "execution_count": 18,
   "id": "691b64dd",
   "metadata": {},
   "outputs": [],
   "source": [
    "cfg_name = \"ftwbaseline-minmax_gab-exp4\"\n",
    "update = base_update.copy()\n",
    "update[\"trainer\"] = dict(default_root_dir=f\"~/working/models/{cfg_name}\")\n",
    "\n",
    "# Ensure global_stats exists before popping\n",
    "global_stats = update[\"data\"][\"init_args\"].get(\"global_stats\", {})\n",
    "global_stats.pop(\"mean\", None)\n",
    "global_stats.pop(\"std\", None)\n",
    "update[\"data\"][\"init_args\"][\"global_stats\"] = global_stats\n",
    "\n",
    "update[\"data\"][\"init_args\"].update(dict(\n",
    "    normalization_strategy=\"min_max\",\n",
    "    normalization_stat_procedure=\"gab\",\n",
    "    global_stats={\"min\": [68.438525], \"max\": [5772.288821], \n",
    "                  \"mean\": None, \"std\": None},\n",
    "))\n",
    "write_yaml(\"../configs/template-hpc-config.yaml\", \n",
    "           f\"../configs/{cfg_name}.yaml\", \n",
    "           updates=update)\n"
   ]
  },
  {
   "cell_type": "markdown",
   "id": "bda8ff6f",
   "metadata": {},
   "source": [
    "##### # 4a Per band Z-value, global stats"
   ]
  },
  {
   "cell_type": "code",
   "execution_count": 20,
   "id": "af940ed8",
   "metadata": {},
   "outputs": [],
   "source": [
    "cfg_name = \"ftwbaseline-zvalue_gpb-exp4a\"\n",
    "update = base_update.copy()\n",
    "update[\"trainer\"] = dict(default_root_dir=f\"~/working/models/{cfg_name}\")\n",
    "update[\"data\"][\"init_args\"] = dict(\n",
    "    normalization_stat_procedure=\"gpb\",\n",
    "    global_stats={\"mean\": [874.538, 876.9152, 641.7087, 2925.554], \n",
    "                  \"std\": [759.7574, 648.3951, 619.3338, 1083.3489]},\n",
    ")\n",
    "\n",
    "write_yaml(\"../configs/template-hpc-config.yaml\", \n",
    "           f\"../configs/{cfg_name}.yaml\", \n",
    "           updates=update)"
   ]
  },
  {
   "cell_type": "markdown",
   "id": "df5b5b94",
   "metadata": {},
   "source": [
    "##### # 5 - photometric augmentations"
   ]
  },
  {
   "cell_type": "code",
   "execution_count": 95,
   "id": "d319c636",
   "metadata": {},
   "outputs": [],
   "source": [
    "augs = [\"rotation\", \"hflip\", \"vflip\", \"sharpness\"]\n",
    "cfg_name = \"ftwbaseline-photometric-exp5\"\n",
    "update = base_update.copy()\n",
    "update[\"trainer\"] = dict(default_root_dir=f\"~/working/models/{cfg_name}\")\n",
    "update[\"data\"][\"init_args\"] = dict(\n",
    "    aug_list=augs + [\"brightness\", \"contrast\", \"gaussian_noise\"]\n",
    ")    \n",
    "write_yaml(\"../configs/template-hpc-config.yaml\", \n",
    "           f\"../configs/{cfg_name}.yaml\", \n",
    "           updates=update)"
   ]
  },
  {
   "cell_type": "markdown",
   "id": "cccc15d2",
   "metadata": {},
   "source": [
    "##### # 6 - satslidemix"
   ]
  },
  {
   "cell_type": "code",
   "execution_count": 96,
   "id": "d77a451d",
   "metadata": {},
   "outputs": [],
   "source": [
    "augs = [\"rotation\", \"hflip\", \"vflip\", \"sharpness\"]\n",
    "cfg_name = \"ftwbaseline-satslide-exp6\"\n",
    "update = base_update.copy()\n",
    "update[\"trainer\"] = dict(default_root_dir=f\"~/working/models/{cfg_name}\")\n",
    "update[\"data\"][\"init_args\"] = dict(\n",
    "    aug_list=augs + [\"satslidemix\"]\n",
    ")    \n",
    "write_yaml(\"../configs/template-hpc-config.yaml\", \n",
    "           f\"../configs/{cfg_name}.yaml\", \n",
    "           updates=update)"
   ]
  },
  {
   "cell_type": "markdown",
   "id": "4a211b81",
   "metadata": {},
   "source": [
    "##### # 7 - rescale"
   ]
  },
  {
   "cell_type": "code",
   "execution_count": 97,
   "id": "2c7d0e0f",
   "metadata": {},
   "outputs": [],
   "source": [
    "augs = [\"rotation\", \"hflip\", \"vflip\", \"sharpness\"]\n",
    "cfg_name = \"ftwbaseline-rescale-exp7\"\n",
    "update = base_update.copy()\n",
    "update[\"trainer\"] = dict(default_root_dir=f\"~/working/models/{cfg_name}\")\n",
    "update[\"data\"][\"init_args\"] = dict(\n",
    "    aug_list=augs + [\"rescale\"]\n",
    ")    \n",
    "write_yaml(\"../configs/template-hpc-config.yaml\", \n",
    "           f\"../configs/{cfg_name}.yaml\", \n",
    "           updates=update)"
   ]
  },
  {
   "cell_type": "markdown",
   "id": "b41de6de",
   "metadata": {},
   "source": [
    "##### # 8 - Tversky and min-max GAB"
   ]
  },
  {
   "cell_type": "code",
   "execution_count": 13,
   "id": "3c3fc86e",
   "metadata": {},
   "outputs": [],
   "source": [
    "cfg_name = \"ftwbaseline-localtversky-minmax_gab-exp8\"\n",
    "update = base_update.copy()\n",
    "update[\"trainer\"] = dict(default_root_dir=f\"~/working/models/{cfg_name}\")\n",
    "update[\"model\"] = dict(init_args=dict(loss=\"localtversky\"))\n",
    "update[\"data\"][\"init_args\"].update(dict(\n",
    "    normalization_strategy=\"min_max\",\n",
    "    normalization_stat_procedure=\"gab\",\n",
    "    global_stats={\"min\": [68.438525], \"max\": [5772.288821], \n",
    "                  \"mean\": None, \"std\": None},\n",
    "))\n",
    "write_yaml(\"../configs/template-hpc-config.yaml\", \n",
    "           f\"../configs/{cfg_name}.yaml\", \n",
    "           updates=update)"
   ]
  },
  {
   "cell_type": "markdown",
   "id": "5a48af16",
   "metadata": {},
   "source": [
    "#### FTW Baseline, full catalog\n",
    "\n",
    "Setting up runs that will pull from the full catalog, starting with the FTW baseline model.\n",
    "\n",
    "We'll also specify some validation sets to evaluate results. To start we will use the separated FTW and Mapping Africa \"global\" validation samples, without confining them to specific countries. "
   ]
  },
  {
   "cell_type": "markdown",
   "id": "dd54361c",
   "metadata": {},
   "source": [
    "##### # 1 Standard settings"
   ]
  },
  {
   "cell_type": "code",
   "execution_count": 116,
   "id": "a249cf04",
   "metadata": {},
   "outputs": [],
   "source": [
    "cfg_name = \"fullcat-ftwbaseline-exp1\"\n",
    "base_update = dict(\n",
    "    data=dict(\n",
    "        init_args=dict(\n",
    "            catalog=f\"{home_dir}/\"\\\n",
    "                \"ftw-mappingafrica-integration/data/ftw-mappingafrica-combined-catalog2.csv\"   \n",
    "        )\n",
    "    )\n",
    ")\n",
    "update = base_update.copy()\n",
    "update[\"trainer\"] = dict(default_root_dir=f\"~/working/models/{cfg_name}\")\n",
    "write_yaml(\"../configs/template-hpc-config.yaml\", \n",
    "           f\"../configs/{cfg_name}.yaml\", \n",
    "           updates=update)"
   ]
  },
  {
   "cell_type": "markdown",
   "id": "42ef9d21",
   "metadata": {},
   "source": [
    "##### # 2 LAB"
   ]
  },
  {
   "cell_type": "code",
   "execution_count": 120,
   "id": "bec61aca",
   "metadata": {},
   "outputs": [],
   "source": [
    "cfg_name = \"fullcat-ftwbaseline-exp2\"\n",
    "update = base_update.copy()\n",
    "update[\"trainer\"] = dict(default_root_dir=f\"~/working/models/{cfg_name}\")\n",
    "update[\"data\"][\"init_args\"].update(dict(\n",
    "    normalization_strategy=\"min_max\",\n",
    "    normalization_stat_procedure=\"lab\",\n",
    "    global_stats=None,\n",
    "))\n",
    "write_yaml(\"../configs/template-hpc-config.yaml\", \n",
    "           f\"../configs/{cfg_name}.yaml\", \n",
    "           updates=update)"
   ]
  },
  {
   "cell_type": "markdown",
   "id": "fcc534f9",
   "metadata": {},
   "source": [
    "##### # 3 Locally-weighted tversky focal loss\n",
    "\n"
   ]
  },
  {
   "cell_type": "code",
   "execution_count": 14,
   "id": "7073ec25",
   "metadata": {},
   "outputs": [],
   "source": [
    "cfg_name = \"fullcat-ftwbaseline-exp3\"\n",
    "update = base_update.copy()\n",
    "update[\"trainer\"] = dict(default_root_dir=f\"~/working/models/{cfg_name}\")\n",
    "update[\"model\"] = dict(init_args=dict(loss=\"localtversky\"))\n",
    "write_yaml(\"../configs/template-hpc-config.yaml\", \n",
    "           f\"../configs/{cfg_name}.yaml\", \n",
    "           updates=update)"
   ]
  },
  {
   "cell_type": "markdown",
   "id": "080c8a49",
   "metadata": {},
   "source": [
    "### FTW baseline, Mapping Africa"
   ]
  },
  {
   "cell_type": "markdown",
   "id": "8276a7f8",
   "metadata": {},
   "source": [
    "#### # 1 Baseline standard"
   ]
  },
  {
   "cell_type": "code",
   "execution_count": 122,
   "id": "47348bff",
   "metadata": {},
   "outputs": [],
   "source": [
    "cfg_name = \"ma-ftwbaseline-exp1\"\n",
    "update = base_update.copy()\n",
    "update[\"trainer\"] = dict(default_root_dir=f\"~/working/models/{cfg_name}\")\n",
    "update[\"data\"][\"init_args\"] = dict(\n",
    "    catalog=f\"{home_dir}/\"\\\n",
    "        f\"ftw-mappingafrica-integration/data/mappingafrica-catalog.csv\"   \n",
    ")\n",
    "write_yaml(\"../configs/template-hpc-config.yaml\", \n",
    "           f\"../configs/{cfg_name}.yaml\", \n",
    "           updates=update)"
   ]
  },
  {
   "cell_type": "markdown",
   "id": "f7300afe",
   "metadata": {},
   "source": [
    "#### # 2 Min-max, lab"
   ]
  },
  {
   "cell_type": "code",
   "execution_count": 124,
   "id": "c768a10e",
   "metadata": {},
   "outputs": [],
   "source": [
    "cfg_name = \"ma-ftwbaseline-exp2\"\n",
    "update = base_update.copy()\n",
    "update[\"trainer\"] = dict(default_root_dir=f\"~/working/models/{cfg_name}\")\n",
    "update[\"data\"][\"init_args\"].update(dict(\n",
    "    normalization_strategy=\"min_max\",\n",
    "    normalization_stat_procedure=\"lab\",\n",
    "    global_stats=None,\n",
    "))\n",
    "write_yaml(\"../configs/template-hpc-config.yaml\", \n",
    "           f\"../configs/{cfg_name}.yaml\", \n",
    "           updates=update)"
   ]
  },
  {
   "cell_type": "markdown",
   "id": "b017fcdd",
   "metadata": {},
   "source": [
    "### Mapping Africa Approximate U-Net\n",
    "\n",
    "We will train a model close to the variant we used on Planet imagery for mapping countries in Africa, initially trained on just the Mapping Africa labels."
   ]
  },
  {
   "cell_type": "code",
   "execution_count": null,
   "id": "dc8552c3",
   "metadata": {},
   "outputs": [],
   "source": [
    "home_dir = \"~/projects\"\n",
    "base_update = dict(\n",
    "    data=dict(\n",
    "        init_args=dict(\n",
    "            catalog=f\"{home_dir}/\"\\\n",
    "                \"ftw-mappingafrica-integration/data/mappingafrica-catalog.csv\"\n",
    "        )\n",
    "    )\n",
    ")"
   ]
  },
  {
   "cell_type": "markdown",
   "id": "89c701db",
   "metadata": {},
   "source": [
    "#### MA Approximate, MA catalog"
   ]
  },
  {
   "cell_type": "code",
   "execution_count": 20,
   "id": "65e14b5e",
   "metadata": {},
   "outputs": [],
   "source": [
    "augs = [\"rotation\", \"hflip\", \"vflip\", \"sharpness\"]\n",
    "cfg_name = \"ma-approximate-baseline\"\n",
    "\n",
    "update = base_update.copy()\n",
    "update[\"trainer\"] = dict(default_root_dir=f\"~/working/models/{cfg_name}\")\n",
    "update[\"model\"] = dict(\n",
    "    init_args=dict(\n",
    "        class_weights=None,\n",
    "        loss=\"localtversky\", \n",
    "        backbone=\"tu-vgg19_bn.tv_in1k\",\n",
    "        patch_weights=True,\n",
    "        model_kwargs=dict(drop_rate=0.1)\n",
    "    )\n",
    ")\n",
    "update[\"data\"][\"init_args\"].update(\n",
    "    dict(\n",
    "        aug_list=augs + \\\n",
    "            [\"brightness\", \"contrast\", \"gaussian_noise\", \"rescale\", \"gamma\"],\n",
    "        normalization_strategy=\"min_max\",\n",
    "        normalization_stat_procedure=\"lab\",\n",
    "        global_stats=None,\n",
    "    ) \n",
    ")\n",
    "write_yaml(\"../configs/template-hpc-config.yaml\", \n",
    "           f\"../configs/{cfg_name}.yaml\", \n",
    "           updates=update)"
   ]
  },
  {
   "cell_type": "markdown",
   "id": "c2858139",
   "metadata": {},
   "source": [
    "#### MA Approximate, FTW catalog"
   ]
  },
  {
   "cell_type": "code",
   "execution_count": 13,
   "id": "f7514134",
   "metadata": {},
   "outputs": [],
   "source": [
    "cfg_name = \"ftw-ma-approximate-exp1\"\n",
    "update = dict(\n",
    "    data=dict(\n",
    "        init_args=dict(\n",
    "            catalog=f\"{home_dir}/\"\\\n",
    "                \"ftw-mappingafrica-integration/data/ftw-catalog2.csv\"\n",
    "        )\n",
    "    )\n",
    ")\n",
    "update[\"trainer\"] = dict(default_root_dir=f\"~/working/models/{cfg_name}\")\n",
    "write_yaml(\"../configs/ma-approximate-baseline.yaml\", \n",
    "           f\"../configs/{cfg_name}.yaml\", \n",
    "           updates=update)"
   ]
  },
  {
   "cell_type": "markdown",
   "id": "f9ca5026",
   "metadata": {},
   "source": [
    "### MA Approximate, Fullcat"
   ]
  },
  {
   "cell_type": "code",
   "execution_count": 15,
   "id": "64da2d45",
   "metadata": {},
   "outputs": [],
   "source": [
    "cfg_name = \"fullcat-ma-approximate-baseline-exp1\"\n",
    "update = dict(\n",
    "    data=dict(\n",
    "        init_args=dict(\n",
    "            catalog=f\"{home_dir}/\"\\\n",
    "                \"ftw-mappingafrica-integration/data/ftw-mappingafrica-combined-catalog2.csv\"   \n",
    "        )\n",
    "    )\n",
    ")\n",
    "update[\"trainer\"] = dict(default_root_dir=f\"~/working/models/{cfg_name}\")\n",
    "write_yaml(\"../configs/ma-approximate-baseline.yaml\", \n",
    "           f\"../configs/{cfg_name}.yaml\", \n",
    "           updates=update)"
   ]
  },
  {
   "cell_type": "markdown",
   "id": "441dd397",
   "metadata": {},
   "source": [
    "### Single time point, round 2\n",
    "\n",
    "Re-running training for the full catalog and FTW only versions using the new long catalog.\n",
    "\n"
   ]
  },
  {
   "cell_type": "markdown",
   "id": "c6530e99",
   "metadata": {},
   "source": [
    "#### FTW baseline, FTW catalog"
   ]
  },
  {
   "cell_type": "code",
   "execution_count": 23,
   "id": "7153fb30",
   "metadata": {},
   "outputs": [],
   "source": [
    "home_dir = \"~/projects\"\n",
    "base_update = dict(\n",
    "    data=dict(\n",
    "        init_args=dict(\n",
    "            catalog=f\"{home_dir}/\"\\\n",
    "                \"ftw-mappingafrica-integration/data/ftw-catalog-long2.csv\",\n",
    "        )\n",
    "    )\n",
    ")"
   ]
  },
  {
   "cell_type": "markdown",
   "id": "c0284124",
   "metadata": {},
   "source": [
    "##### Locally-weighted tversky focal loss, redo"
   ]
  },
  {
   "cell_type": "code",
   "execution_count": 16,
   "id": "a8713878",
   "metadata": {},
   "outputs": [],
   "source": [
    "cfg_name = \"ftwbaseline-localtversky-longcat\"\n",
    "update = base_update.copy()\n",
    "update[\"trainer\"] = dict(default_root_dir=f\"~/working/models/{cfg_name}\")\n",
    "update[\"model\"] = dict(init_args=dict(loss=\"localtversky\"))\n",
    "write_yaml(\"../configs/template-hpc-config.yaml\", \n",
    "           f\"../configs/{cfg_name}.yaml\", \n",
    "           updates=update)"
   ]
  },
  {
   "cell_type": "markdown",
   "id": "17b84efd",
   "metadata": {},
   "source": [
    "##### Tversky and min-max GAB, redo"
   ]
  },
  {
   "cell_type": "code",
   "execution_count": 21,
   "id": "203d35a4",
   "metadata": {},
   "outputs": [],
   "source": [
    "cfg_name = \"ftwbaseline-localtversky-minmax_gab-longcat\"\n",
    "update = base_update.copy()\n",
    "update[\"trainer\"] = dict(default_root_dir=f\"~/working/models/{cfg_name}\")\n",
    "update[\"model\"] = dict(init_args=dict(loss=\"localtversky\"))\n",
    "update[\"data\"][\"init_args\"].update(dict(\n",
    "    normalization_strategy=\"min_max\",\n",
    "    normalization_stat_procedure=\"gab\",\n",
    "    global_stats={\"min\": [68.438525], \"max\": [5772.288821], \n",
    "                  \"mean\": None, \"std\": None},\n",
    "))\n",
    "write_yaml(\"../configs/template-hpc-config.yaml\", \n",
    "           f\"../configs/{cfg_name}.yaml\", \n",
    "           updates=update)"
   ]
  },
  {
   "cell_type": "markdown",
   "id": "ff51b77c",
   "metadata": {},
   "source": [
    "##### Tversky, min-max GAB, photometric augmentations"
   ]
  },
  {
   "cell_type": "code",
   "execution_count": 26,
   "id": "0e9f9cba",
   "metadata": {},
   "outputs": [],
   "source": [
    "augs = [\"rotation\", \"hflip\", \"vflip\", \"sharpness\"]\n",
    "cfg_name = \"ftwbaseline-localtversky-minmax_gab-photometric-longcat\"\n",
    "update = base_update.copy()\n",
    "update[\"trainer\"] = dict(default_root_dir=f\"~/working/models/{cfg_name}\")\n",
    "update[\"model\"] = dict(init_args=dict(loss=\"localtversky\"))\n",
    "update[\"data\"][\"init_args\"].update(dict(\n",
    "    aug_list=augs + [\"brightness\", \"contrast\", \"gaussian_noise\", \"gamma\"],\n",
    "    normalization_strategy=\"min_max\",\n",
    "    normalization_stat_procedure=\"gab\",\n",
    "    global_stats={\"min\": [68.438525], \"max\": [5772.288821], \n",
    "                  \"mean\": None, \"std\": None},\n",
    "))\n",
    "write_yaml(\"../configs/template-hpc-config.yaml\", \n",
    "           f\"../configs/{cfg_name}.yaml\", \n",
    "           updates=update)"
   ]
  },
  {
   "cell_type": "code",
   "execution_count": null,
   "id": "8c3f217c",
   "metadata": {},
   "outputs": [],
   "source": []
  }
 ],
 "metadata": {
  "kernelspec": {
   "display_name": "ftw-mapafrica",
   "language": "python",
   "name": "python3"
  },
  "language_info": {
   "codemirror_mode": {
    "name": "ipython",
    "version": 3
   },
   "file_extension": ".py",
   "mimetype": "text/x-python",
   "name": "python",
   "nbconvert_exporter": "python",
   "pygments_lexer": "ipython3",
   "version": "3.12.10"
  }
 },
 "nbformat": 4,
 "nbformat_minor": 5
}
