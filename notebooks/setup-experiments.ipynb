{
 "cells": [
  {
   "cell_type": "markdown",
   "id": "41d505fe",
   "metadata": {},
   "source": [
    "# Set up for model experiments\n",
    "\n",
    "We'll do the following here:\n",
    "\n",
    "- Create distinct catalogs\n",
    "- Document parameters changes that will accompany each\n",
    "- Create yamls for each experiment"
   ]
  },
  {
   "cell_type": "markdown",
   "id": "edfaa653",
   "metadata": {},
   "source": [
    "## Initial experiments - FTW baseline model, FTW dataset\n",
    "\n",
    "The first tests will be on a few different parameters/settings on the existing FTW baseline model, on just the FTW dataset (the full one). "
   ]
  },
  {
   "cell_type": "markdown",
   "id": "9503d4da",
   "metadata": {},
   "source": [
    "### Catalogs"
   ]
  },
  {
   "cell_type": "code",
   "execution_count": 1,
   "id": "3027a060",
   "metadata": {},
   "outputs": [],
   "source": [
    "import pandas as pd\n",
    "from pathlib import Path\n",
    "import yaml"
   ]
  },
  {
   "cell_type": "code",
   "execution_count": 84,
   "id": "f4400d39",
   "metadata": {},
   "outputs": [],
   "source": [
    "catalog = pd.read_csv(\"../data/ftw-mappingafrica-combined-catalog.csv\")\n",
    "catalog.query(\"dataset == 'ftw'\").to_csv(\"../data/ftw-catalog.csv\", index=False)"
   ]
  },
  {
   "cell_type": "markdown",
   "id": "445e89cb",
   "metadata": {},
   "source": [
    "Update: catalog will be adjusted to drop Portugal and presence-only data from validation set for FTW"
   ]
  },
  {
   "cell_type": "code",
   "execution_count": null,
   "id": "33704f12",
   "metadata": {},
   "outputs": [],
   "source": [
    "catalog = pd.read_csv(\"../data/ftw-mappingafrica-combined-catalog.csv\")\n",
    "# catalog[\"split\"]\n",
    "\n",
    "# 22 records in India had no split assigned--placed them in train\n",
    "catalog[\"split\"] = catalog[\"split\"].replace(\"none\", \"train\")\n",
    "\n",
    "catalog['split'] = catalog['split'].astype(str).str.strip().str.lower()\n",
    "catalog['country'] = catalog['country'].astype(str).str.strip().str.lower()\n",
    "catalog['null_prop'] = pd.to_numeric(catalog['null_prop'], errors='coerce')  # NaN if non-numeric\n",
    "\n",
    "mask = ~(\n",
    "    catalog['split'].isin(['validate', 'test'])\n",
    "    & (\n",
    "        (catalog['null_prop'] > 0) | (catalog['country'] == 'portugal')\n",
    "    )\n",
    ")\n",
    "catalogr = catalog[mask].copy().reset_index(drop=True)\n",
    "\n",
    "# FTW and full catalogs dropping Portugal and presence-only data from val/test\n",
    "(catalogr.query(\"dataset == 'ftw'\")\n",
    " .to_csv(\"../data/ftw-catalog2.csv\", index=False))\n",
    "(catalogr\n",
    " .to_csv(\"../data/ftw-mappingafrica-combined-catalog2.csv\", index=False))\n",
    "\n",
    "# small FTW for rapid model testing\n",
    "ftw_small = (\n",
    "    catalogr\n",
    "     .query(\"dataset == 'ftw'\")\n",
    "     .sample(10000, random_state=42)\n",
    ").reset_index(drop=True)#.to_csv(\"../data/ftw-catalog-small.csv\", index=False))\n",
    "# ftw_small[\"split\"].value_counts()\n",
    "ftw_small.to_csv(\"../data/ftw-catalog-small.csv\", index=False)\n"
   ]
  },
  {
   "cell_type": "markdown",
   "id": "6657a499",
   "metadata": {},
   "source": [
    "Make another small catalog for debugging, including null prop > 0 in validation data"
   ]
  },
  {
   "cell_type": "code",
   "execution_count": 89,
   "id": "1ed3dc2f",
   "metadata": {},
   "outputs": [],
   "source": [
    "ftw_catalog = pd.read_csv(\"../data/ftw-catalog.csv\")\n",
    "ftw_small_debug = (ftw_catalog\n",
    "                   .sample(1000, random_state=42)\n",
    "                   .reset_index(drop=True))\n",
    "# ftw_small_debug.query(\"split == 'validate' & null_prop > 0\")\n",
    "ftw_small_debug.to_csv(\"../data/ftw-catalog-small-debug.csv\", index=False)\n"
   ]
  },
  {
   "cell_type": "markdown",
   "id": "dc9cc2c2",
   "metadata": {},
   "source": [
    "Mapping Africa only"
   ]
  },
  {
   "cell_type": "code",
   "execution_count": null,
   "id": "73d06f9b",
   "metadata": {},
   "outputs": [],
   "source": [
    "catalog = pd.read_csv(\"../data/ftw-mappingafrica-combined-catalog.csv\")\n",
    "(catalog.query(\"dataset == 'mappingafrica'\")\n",
    " .to_csv(\"../data/mappingafrica-catalog.csv\", index=False))"
   ]
  },
  {
   "cell_type": "markdown",
   "id": "ec63f770",
   "metadata": {},
   "source": [
    "### Config adjustor"
   ]
  },
  {
   "cell_type": "code",
   "execution_count": 16,
   "id": "5343e6f0",
   "metadata": {},
   "outputs": [],
   "source": [
    "def write_yaml(template_path: str, output_path: str, updates: dict = None):\n",
    "    \"\"\"\n",
    "    Write a YAML file from a template file, with optional updates.\n",
    "\n",
    "    Args:\n",
    "        template_path (str): Path to the base YAML template file.\n",
    "        output_path (str): Path to the output YAML file.\n",
    "        updates (dict, optional): Dictionary of keys/values to update.\n",
    "    \"\"\"\n",
    "\n",
    "    def recursive_update(d, u):\n",
    "        for k, v in u.items():\n",
    "            if isinstance(v, dict) and isinstance(d.get(k), dict):\n",
    "                recursive_update(d[k], v)\n",
    "            else:\n",
    "                d[k] = v\n",
    "\n",
    "    with open(template_path, 'r') as f:\n",
    "        config = yaml.safe_load(f)\n",
    "        if updates:\n",
    "            recursive_update(config, updates)\n",
    "\n",
    "    class IndentDumper(yaml.SafeDumper):\n",
    "        def increase_indent(self, flow=False, indentless=False):\n",
    "            return super().increase_indent(flow, False)\n",
    "\n",
    "    # custom representer for lists\n",
    "    def represent_list(dumper, data):\n",
    "        # flow style only if all elements are scalars\n",
    "        if all(isinstance(x, (str, int, float, bool, type(None))) for x in data):\n",
    "            return dumper.represent_sequence(\"tag:yaml.org,2002:seq\", data, \n",
    "                                             flow_style=True)\n",
    "        else:\n",
    "            return dumper.represent_sequence(\"tag:yaml.org,2002:seq\", data, \n",
    "                                             flow_style=False)\n",
    "\n",
    "    IndentDumper.add_representer(list, represent_list)\n",
    "\n",
    "    with open(output_path, 'w') as f:\n",
    "        yaml.dump(\n",
    "            config,\n",
    "            f,\n",
    "            Dumper=IndentDumper,\n",
    "            default_flow_style=False,  # keep dicts block-style\n",
    "            sort_keys=False,\n",
    "            indent=2,\n",
    "            allow_unicode=True\n",
    "        )\n"
   ]
  },
  {
   "cell_type": "markdown",
   "id": "1dc8f8e5",
   "metadata": {},
   "source": [
    "### Experiments\n",
    "\n",
    "All experiments here are FTW baseline model, window B only, on the FTW dataset.\n",
    "\n",
    "Single parameter or no change:\n",
    "\n",
    "1. FTW defaults (for comparison with FTW's results)\n",
    "2. Locally-weighted tversky focal loss\n",
    "3. min-max normalization, lab\n",
    "4. min-max normalization, gab\n",
    "5. photometric augmentation package\n",
    "6. satslidemix\n",
    "7. rescale"
   ]
  },
  {
   "cell_type": "markdown",
   "id": "d49b9f74",
   "metadata": {},
   "source": [
    "#### Setup\n",
    "\n",
    "Below we set up a yaml for each experiment. Provide the following:\n",
    "\n",
    "- `cfg_name`: name of the config/experiment file (without .yaml)\n",
    "- `update`: dictionary of changes to make to the base config\n",
    "\n",
    "Also define a global `home_dir` for the path to the repo containing the catalog. That's done once in the first cell. "
   ]
  },
  {
   "cell_type": "code",
   "execution_count": 12,
   "id": "efdbd147",
   "metadata": {},
   "outputs": [],
   "source": [
    "home_dir = \"~/projects\"\n",
    "base_update = dict(\n",
    "    data=dict(\n",
    "        init_args=dict(\n",
    "            catalog=f\"{home_dir}/\"\\\n",
    "                \"ftw-mappingafrica-integration/data/ftw-catalog2.csv\",\n",
    "        )\n",
    "    )\n",
    ")"
   ]
  },
  {
   "cell_type": "markdown",
   "id": "136ae23b",
   "metadata": {},
   "source": [
    "#### # 1 Default\n",
    "\n",
    "With updated optimal weights added"
   ]
  },
  {
   "cell_type": "code",
   "execution_count": null,
   "id": "a9f26aa2",
   "metadata": {},
   "outputs": [],
   "source": [
    "cfg_name = \"ftwbaseline-exp1\"\n",
    "update = base_update.copy()\n",
    "update[\"trainer\"] = dict(default_root_dir=f\"~/working/models/{cfg_name}\")\n",
    "write_yaml(\"../configs/template-hpc-config.yaml\", \n",
    "           f\"../configs/{cfg_name}.yaml\", \n",
    "           updates=update)"
   ]
  },
  {
   "cell_type": "markdown",
   "id": "a414ea3f",
   "metadata": {},
   "source": [
    "#### # 2 Locally-weighted tversky focal loss\n"
   ]
  },
  {
   "cell_type": "code",
   "execution_count": 93,
   "id": "4def790c",
   "metadata": {},
   "outputs": [],
   "source": [
    "cfg_name = \"ftwbaseline-localtversky-exp2\"\n",
    "update = base_update.copy()\n",
    "update[\"trainer\"] = dict(default_root_dir=f\"~/working/models/{cfg_name}\")\n",
    "update[\"model\"] = dict(init_args=dict(loss=\"localtversky\"))\n",
    "write_yaml(\"../configs/template-hpc-config.yaml\", \n",
    "           f\"../configs/{cfg_name}.yaml\", \n",
    "           updates=update)"
   ]
  },
  {
   "cell_type": "markdown",
   "id": "b0070ae6",
   "metadata": {},
   "source": [
    "#### # 3 Local min-max normalization, across bands\n"
   ]
  },
  {
   "cell_type": "code",
   "execution_count": 94,
   "id": "41fc1730",
   "metadata": {},
   "outputs": [],
   "source": [
    "cfg_name = \"ftwbaseline-minmax_lab-exp3\"\n",
    "update = base_update.copy()\n",
    "update[\"trainer\"] = dict(default_root_dir=f\"~/working/models/{cfg_name}\")\n",
    "update[\"data\"][\"init_args\"] = dict(\n",
    "    normalization_strategy=\"min_max\",\n",
    "    normalization_stat_procedure=\"lab\",\n",
    "    global_stats=None,\n",
    ")\n",
    "\n",
    "write_yaml(\"../configs/template-hpc-config.yaml\", \n",
    "           f\"../configs/{cfg_name}.yaml\", \n",
    "           updates=update)"
   ]
  },
  {
   "cell_type": "markdown",
   "id": "26d22d36",
   "metadata": {},
   "source": [
    "#### # 4 Global min-max normalization, across bands\n",
    "\n",
    "Using the 1st and 99th percentiles as min-max. \n"
   ]
  },
  {
   "cell_type": "code",
   "execution_count": 18,
   "id": "691b64dd",
   "metadata": {},
   "outputs": [],
   "source": [
    "cfg_name = \"ftwbaseline-minmax_gab-exp4\"\n",
    "update = base_update.copy()\n",
    "update[\"trainer\"] = dict(default_root_dir=f\"~/working/models/{cfg_name}\")\n",
    "\n",
    "# Ensure global_stats exists before popping\n",
    "global_stats = update[\"data\"][\"init_args\"].get(\"global_stats\", {})\n",
    "global_stats.pop(\"mean\", None)\n",
    "global_stats.pop(\"std\", None)\n",
    "update[\"data\"][\"init_args\"][\"global_stats\"] = global_stats\n",
    "\n",
    "update[\"data\"][\"init_args\"].update(dict(\n",
    "    normalization_strategy=\"min_max\",\n",
    "    normalization_stat_procedure=\"gab\",\n",
    "    global_stats={\"min\": [68.438525], \"max\": [5772.288821], \n",
    "                  \"mean\": None, \"std\": None},\n",
    "))\n",
    "write_yaml(\"../configs/template-hpc-config.yaml\", \n",
    "           f\"../configs/{cfg_name}.yaml\", \n",
    "           updates=update)\n"
   ]
  },
  {
   "cell_type": "markdown",
   "id": "df5b5b94",
   "metadata": {},
   "source": [
    "#### # 5"
   ]
  },
  {
   "cell_type": "code",
   "execution_count": 95,
   "id": "d319c636",
   "metadata": {},
   "outputs": [],
   "source": [
    "augs = [\"rotation\", \"hflip\", \"vflip\", \"sharpness\"]\n",
    "cfg_name = \"ftwbaseline-photometric-exp5\"\n",
    "update = base_update.copy()\n",
    "update[\"trainer\"] = dict(default_root_dir=f\"~/working/models/{cfg_name}\")\n",
    "update[\"data\"][\"init_args\"] = dict(\n",
    "    aug_list=augs + [\"brightness\", \"contrast\", \"gaussian_noise\"]\n",
    ")    \n",
    "write_yaml(\"../configs/template-hpc-config.yaml\", \n",
    "           f\"../configs/{cfg_name}.yaml\", \n",
    "           updates=update)"
   ]
  },
  {
   "cell_type": "markdown",
   "id": "cccc15d2",
   "metadata": {},
   "source": [
    "#### # 6"
   ]
  },
  {
   "cell_type": "code",
   "execution_count": 96,
   "id": "d77a451d",
   "metadata": {},
   "outputs": [],
   "source": [
    "augs = [\"rotation\", \"hflip\", \"vflip\", \"sharpness\"]\n",
    "cfg_name = \"ftwbaseline-satslide-exp6\"\n",
    "update = base_update.copy()\n",
    "update[\"trainer\"] = dict(default_root_dir=f\"~/working/models/{cfg_name}\")\n",
    "update[\"data\"][\"init_args\"] = dict(\n",
    "    aug_list=augs + [\"satslidemix\"]\n",
    ")    \n",
    "write_yaml(\"../configs/template-hpc-config.yaml\", \n",
    "           f\"../configs/{cfg_name}.yaml\", \n",
    "           updates=update)"
   ]
  },
  {
   "cell_type": "markdown",
   "id": "4a211b81",
   "metadata": {},
   "source": [
    "#### # 7"
   ]
  },
  {
   "cell_type": "code",
   "execution_count": 97,
   "id": "2c7d0e0f",
   "metadata": {},
   "outputs": [],
   "source": [
    "augs = [\"rotation\", \"hflip\", \"vflip\", \"sharpness\"]\n",
    "cfg_name = \"ftwbaseline-rescale-exp7\"\n",
    "update = base_update.copy()\n",
    "update[\"trainer\"] = dict(default_root_dir=f\"~/working/models/{cfg_name}\")\n",
    "update[\"data\"][\"init_args\"] = dict(\n",
    "    aug_list=augs + [\"rescale\"]\n",
    ")    \n",
    "write_yaml(\"../configs/template-hpc-config.yaml\", \n",
    "           f\"../configs/{cfg_name}.yaml\", \n",
    "           updates=update)"
   ]
  },
  {
   "cell_type": "markdown",
   "id": "5a48af16",
   "metadata": {},
   "source": [
    "### Full catalog\n",
    "\n",
    "Setting up runs that will pull from the full catalog, starting with the FTW baseline model.\n",
    "\n",
    "We'll also specify some validation sets to evaluate results. To start we will use the separated FTW and Mapping Africa \"global\" validation samples, without confining them to specific countries. "
   ]
  },
  {
   "cell_type": "markdown",
   "id": "dd54361c",
   "metadata": {},
   "source": [
    "#### # 8 Standard settings"
   ]
  },
  {
   "cell_type": "code",
   "execution_count": 116,
   "id": "a249cf04",
   "metadata": {},
   "outputs": [],
   "source": [
    "cfg_name = \"fullcat-ftwbaseline-exp1\"\n",
    "base_update = dict(\n",
    "    data=dict(\n",
    "        init_args=dict(\n",
    "            catalog=f\"{home_dir}/\"\\\n",
    "                \"ftw-mappingafrica-integration/data/ftw-mappingafrica-combined-catalog2.csv\"   \n",
    "        )\n",
    "    )\n",
    ")\n",
    "update = base_update.copy()\n",
    "update[\"trainer\"] = dict(default_root_dir=f\"~/working/models/{cfg_name}\")\n",
    "write_yaml(\"../configs/template-hpc-config.yaml\", \n",
    "           f\"../configs/{cfg_name}.yaml\", \n",
    "           updates=update)"
   ]
  },
  {
   "cell_type": "markdown",
   "id": "42ef9d21",
   "metadata": {},
   "source": [
    "#### # 9 LAB"
   ]
  },
  {
   "cell_type": "code",
   "execution_count": 120,
   "id": "bec61aca",
   "metadata": {},
   "outputs": [],
   "source": [
    "cfg_name = \"fullcat-ftwbaseline-exp2\"\n",
    "update = base_update.copy()\n",
    "update[\"trainer\"] = dict(default_root_dir=f\"~/working/models/{cfg_name}\")\n",
    "update[\"data\"][\"init_args\"].update(dict(\n",
    "    normalization_strategy=\"min_max\",\n",
    "    normalization_stat_procedure=\"lab\",\n",
    "    global_stats=None,\n",
    "))\n",
    "write_yaml(\"../configs/template-hpc-config.yaml\", \n",
    "           f\"../configs/{cfg_name}.yaml\", \n",
    "           updates=update)"
   ]
  },
  {
   "cell_type": "markdown",
   "id": "fcc534f9",
   "metadata": {},
   "source": [
    "### # 10 Locally-weighted tversky focal loss\n",
    "\n"
   ]
  },
  {
   "cell_type": "code",
   "execution_count": 126,
   "id": "7073ec25",
   "metadata": {},
   "outputs": [],
   "source": [
    "cfg_name = \"fullcat-ftwbaseline-exp3\"\n",
    "update = base_update.copy()\n",
    "update[\"trainer\"] = dict(default_root_dir=f\"~/working/models/{cfg_name}\")\n",
    "update[\"model\"] = dict(init_args=dict(loss=\"localtversky\"))\n",
    "write_yaml(\"../configs/template-hpc-config.yaml\", \n",
    "           f\"../configs/{cfg_name}.yaml\", \n",
    "           updates=update)"
   ]
  },
  {
   "cell_type": "markdown",
   "id": "080c8a49",
   "metadata": {},
   "source": [
    "### Mapping Africa only"
   ]
  },
  {
   "cell_type": "markdown",
   "id": "8276a7f8",
   "metadata": {},
   "source": [
    "### 11 Baseline standard"
   ]
  },
  {
   "cell_type": "code",
   "execution_count": 122,
   "id": "47348bff",
   "metadata": {},
   "outputs": [],
   "source": [
    "cfg_name = \"ma-ftwbaseline-exp1\"\n",
    "update = base_update.copy()\n",
    "update[\"trainer\"] = dict(default_root_dir=f\"~/working/models/{cfg_name}\")\n",
    "update[\"data\"][\"init_args\"] = dict(\n",
    "    catalog=f\"{home_dir}/\"\\\n",
    "        f\"ftw-mappingafrica-integration/data/mappingafrica-catalog.csv\"   \n",
    ")\n",
    "write_yaml(\"../configs/template-hpc-config.yaml\", \n",
    "           f\"../configs/{cfg_name}.yaml\", \n",
    "           updates=update)"
   ]
  },
  {
   "cell_type": "markdown",
   "id": "f7300afe",
   "metadata": {},
   "source": [
    "### 12 Min-max, lab"
   ]
  },
  {
   "cell_type": "code",
   "execution_count": 124,
   "id": "c768a10e",
   "metadata": {},
   "outputs": [],
   "source": [
    "cfg_name = \"ma-ftwbaseline-exp2\"\n",
    "update = base_update.copy()\n",
    "update[\"trainer\"] = dict(default_root_dir=f\"~/working/models/{cfg_name}\")\n",
    "update[\"data\"][\"init_args\"].update(dict(\n",
    "    normalization_strategy=\"min_max\",\n",
    "    normalization_stat_procedure=\"lab\",\n",
    "    global_stats=None,\n",
    "))\n",
    "write_yaml(\"../configs/template-hpc-config.yaml\", \n",
    "           f\"../configs/{cfg_name}.yaml\", \n",
    "           updates=update)"
   ]
  },
  {
   "cell_type": "markdown",
   "id": "b017fcdd",
   "metadata": {},
   "source": [
    "## Mapping Africa Approximate U-Net\n",
    "\n",
    "We will train a model close to the variant we used on Planet imagery for mapping countries in Africa, initially trained on just the Mapping Africa labels."
   ]
  },
  {
   "cell_type": "code",
   "execution_count": 19,
   "id": "dc8552c3",
   "metadata": {},
   "outputs": [],
   "source": [
    "home_dir = \"~/projects\"\n",
    "base_update = dict(\n",
    "    data=dict(\n",
    "        init_args=dict(\n",
    "            catalog=f\"{home_dir}/\"\\\n",
    "                \"ftw-mappingafrica-integration/data/mappingafrica-catalog.csv\"\n",
    "        )\n",
    "    )\n",
    ")"
   ]
  },
  {
   "cell_type": "code",
   "execution_count": 20,
   "id": "65e14b5e",
   "metadata": {},
   "outputs": [],
   "source": [
    "augs = [\"rotation\", \"hflip\", \"vflip\", \"sharpness\"]\n",
    "cfg_name = \"ma-approximate-baseline\"\n",
    "\n",
    "update = base_update.copy()\n",
    "update[\"trainer\"] = dict(default_root_dir=f\"~/working/models/{cfg_name}\")\n",
    "update[\"model\"] = dict(\n",
    "    init_args=dict(\n",
    "        class_weights=None,\n",
    "        loss=\"localtversky\", \n",
    "        backbone=\"tu-vgg19_bn.tv_in1k\",\n",
    "        patch_weights=True,\n",
    "        model_kwargs=dict(drop_rate=0.1)\n",
    "    )\n",
    ")\n",
    "update[\"data\"][\"init_args\"].update(\n",
    "    dict(\n",
    "        aug_list=augs + \\\n",
    "            [\"brightness\", \"contrast\", \"gaussian_noise\", \"rescale\", \"gamma\"],\n",
    "        normalization_strategy=\"min_max\",\n",
    "        normalization_stat_procedure=\"lab\",\n",
    "        global_stats=None,\n",
    "    ) \n",
    ")\n",
    "write_yaml(\"../configs/template-hpc-config.yaml\", \n",
    "           f\"../configs/{cfg_name}.yaml\", \n",
    "           updates=update)"
   ]
  }
 ],
 "metadata": {
  "kernelspec": {
   "display_name": "ftw-mapafrica",
   "language": "python",
   "name": "python3"
  },
  "language_info": {
   "codemirror_mode": {
    "name": "ipython",
    "version": 3
   },
   "file_extension": ".py",
   "mimetype": "text/x-python",
   "name": "python",
   "nbconvert_exporter": "python",
   "pygments_lexer": "ipython3",
   "version": "3.12.10"
  }
 },
 "nbformat": 4,
 "nbformat_minor": 5
}
